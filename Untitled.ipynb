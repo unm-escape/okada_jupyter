{
 "cells": [
  {
   "cell_type": "code",
   "execution_count": 1,
   "id": "diagnostic-citizen",
   "metadata": {},
   "outputs": [],
   "source": [
    "import mcmc_fault"
   ]
  },
  {
   "cell_type": "code",
   "execution_count": 2,
   "id": "worldwide-tiger",
   "metadata": {},
   "outputs": [
    {
     "data": {
      "text/plain": [
       "0"
      ]
     },
     "execution_count": 2,
     "metadata": {},
     "output_type": "execute_result"
    }
   ],
   "source": [
    "y=2\n",
    "mcmc_fault.set_y(100)\n",
    "mcmc_fault.get_y()"
   ]
  },
  {
   "cell_type": "code",
   "execution_count": null,
   "id": "preceding-multiple",
   "metadata": {},
   "outputs": [],
   "source": []
  }
 ],
 "metadata": {
  "kernelspec": {
   "display_name": "Python 3",
   "language": "python",
   "name": "python3"
  },
  "language_info": {
   "codemirror_mode": {
    "name": "ipython",
    "version": 3
   },
   "file_extension": ".py",
   "mimetype": "text/x-python",
   "name": "python",
   "nbconvert_exporter": "python",
   "pygments_lexer": "ipython3",
   "version": "3.8.6"
  }
 },
 "nbformat": 4,
 "nbformat_minor": 5
}
